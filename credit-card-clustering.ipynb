{
 "cells": [
  {
   "cell_type": "markdown",
   "id": "5541724a-4af0-49f1-9fc3-6a8ff9c9dabd",
   "metadata": {},
   "source": [
    "# Credit Card Clustering"
   ]
  },
  {
   "cell_type": "code",
   "execution_count": 1,
   "id": "18594e6b-12b3-41bc-a5f1-c5a0ff81ef0b",
   "metadata": {},
   "outputs": [],
   "source": [
    "import pandas as pd\n",
    "import numpy as np\n",
    "import matplotlib.pyplot as plt\n",
    "import seaborn as sns\n",
    "#from sklearn.metrics import "
   ]
  },
  {
   "cell_type": "markdown",
   "id": "c201914d-d889-4e9d-977e-de220be70769",
   "metadata": {},
   "source": [
    "### Step 1: Importing & Understanding the dataset"
   ]
  },
  {
   "cell_type": "code",
   "execution_count": 2,
   "id": "ea6fb141-c70d-4fc1-a0fe-d00d86d21d59",
   "metadata": {},
   "outputs": [
    {
     "data": {
      "text/html": [
       "<div>\n",
       "<style scoped>\n",
       "    .dataframe tbody tr th:only-of-type {\n",
       "        vertical-align: middle;\n",
       "    }\n",
       "\n",
       "    .dataframe tbody tr th {\n",
       "        vertical-align: top;\n",
       "    }\n",
       "\n",
       "    .dataframe thead th {\n",
       "        text-align: right;\n",
       "    }\n",
       "</style>\n",
       "<table border=\"1\" class=\"dataframe\">\n",
       "  <thead>\n",
       "    <tr style=\"text-align: right;\">\n",
       "      <th></th>\n",
       "      <th>CUST_ID</th>\n",
       "      <th>BALANCE_FREQUENCY</th>\n",
       "      <th>PURCHASES</th>\n",
       "      <th>PAYMENTS</th>\n",
       "      <th>CREDIT_LIMIT</th>\n",
       "      <th>CASH_ADVANCE</th>\n",
       "    </tr>\n",
       "  </thead>\n",
       "  <tbody>\n",
       "    <tr>\n",
       "      <th>0</th>\n",
       "      <td>C10001</td>\n",
       "      <td>0.818182</td>\n",
       "      <td>95.40</td>\n",
       "      <td>201.802084</td>\n",
       "      <td>1000.0</td>\n",
       "      <td>0.000000</td>\n",
       "    </tr>\n",
       "    <tr>\n",
       "      <th>1</th>\n",
       "      <td>C10002</td>\n",
       "      <td>0.909091</td>\n",
       "      <td>0.00</td>\n",
       "      <td>4103.032597</td>\n",
       "      <td>7000.0</td>\n",
       "      <td>6442.945483</td>\n",
       "    </tr>\n",
       "    <tr>\n",
       "      <th>2</th>\n",
       "      <td>C10003</td>\n",
       "      <td>1.000000</td>\n",
       "      <td>773.17</td>\n",
       "      <td>622.066742</td>\n",
       "      <td>7500.0</td>\n",
       "      <td>0.000000</td>\n",
       "    </tr>\n",
       "    <tr>\n",
       "      <th>3</th>\n",
       "      <td>C10004</td>\n",
       "      <td>0.636364</td>\n",
       "      <td>1499.00</td>\n",
       "      <td>0.000000</td>\n",
       "      <td>7500.0</td>\n",
       "      <td>205.788017</td>\n",
       "    </tr>\n",
       "    <tr>\n",
       "      <th>4</th>\n",
       "      <td>C10005</td>\n",
       "      <td>1.000000</td>\n",
       "      <td>16.00</td>\n",
       "      <td>678.334763</td>\n",
       "      <td>1200.0</td>\n",
       "      <td>0.000000</td>\n",
       "    </tr>\n",
       "  </tbody>\n",
       "</table>\n",
       "</div>"
      ],
      "text/plain": [
       "  CUST_ID  BALANCE_FREQUENCY  PURCHASES     PAYMENTS  CREDIT_LIMIT  \\\n",
       "0  C10001           0.818182      95.40   201.802084        1000.0   \n",
       "1  C10002           0.909091       0.00  4103.032597        7000.0   \n",
       "2  C10003           1.000000     773.17   622.066742        7500.0   \n",
       "3  C10004           0.636364    1499.00     0.000000        7500.0   \n",
       "4  C10005           1.000000      16.00   678.334763        1200.0   \n",
       "\n",
       "   CASH_ADVANCE  \n",
       "0      0.000000  \n",
       "1   6442.945483  \n",
       "2      0.000000  \n",
       "3    205.788017  \n",
       "4      0.000000  "
      ]
     },
     "execution_count": 2,
     "metadata": {},
     "output_type": "execute_result"
    }
   ],
   "source": [
    "credit_card_df = pd.read_csv('datasets/Credit_card_dataset.csv')\n",
    "credit_card_df.head()"
   ]
  },
  {
   "cell_type": "code",
   "execution_count": 3,
   "id": "352894b3-ee6c-40db-ae52-ce2d9ad36987",
   "metadata": {},
   "outputs": [
    {
     "data": {
      "text/plain": [
       "(8950, 6)"
      ]
     },
     "execution_count": 3,
     "metadata": {},
     "output_type": "execute_result"
    }
   ],
   "source": [
    "credit_card_df.shape"
   ]
  },
  {
   "cell_type": "code",
   "execution_count": 4,
   "id": "96352a30-bebe-4855-bb69-65cf5bf16cc4",
   "metadata": {},
   "outputs": [
    {
     "name": "stdout",
     "output_type": "stream",
     "text": [
      "<class 'pandas.core.frame.DataFrame'>\n",
      "RangeIndex: 8950 entries, 0 to 8949\n",
      "Data columns (total 6 columns):\n",
      " #   Column             Non-Null Count  Dtype  \n",
      "---  ------             --------------  -----  \n",
      " 0   CUST_ID            8950 non-null   object \n",
      " 1   BALANCE_FREQUENCY  8950 non-null   float64\n",
      " 2   PURCHASES          8950 non-null   float64\n",
      " 3   PAYMENTS           8950 non-null   float64\n",
      " 4   CREDIT_LIMIT       8949 non-null   float64\n",
      " 5   CASH_ADVANCE       8950 non-null   float64\n",
      "dtypes: float64(5), object(1)\n",
      "memory usage: 419.7+ KB\n"
     ]
    }
   ],
   "source": [
    "credit_card_df.info()"
   ]
  },
  {
   "cell_type": "code",
   "execution_count": 6,
   "id": "8443b1c5-08c5-4565-a0f7-33d9fda298e9",
   "metadata": {},
   "outputs": [
    {
     "data": {
      "text/html": [
       "<div>\n",
       "<style scoped>\n",
       "    .dataframe tbody tr th:only-of-type {\n",
       "        vertical-align: middle;\n",
       "    }\n",
       "\n",
       "    .dataframe tbody tr th {\n",
       "        vertical-align: top;\n",
       "    }\n",
       "\n",
       "    .dataframe thead th {\n",
       "        text-align: right;\n",
       "    }\n",
       "</style>\n",
       "<table border=\"1\" class=\"dataframe\">\n",
       "  <thead>\n",
       "    <tr style=\"text-align: right;\">\n",
       "      <th></th>\n",
       "      <th>CUST_ID</th>\n",
       "      <th>BALANCE_FREQUENCY</th>\n",
       "      <th>PURCHASES</th>\n",
       "      <th>PAYMENTS</th>\n",
       "      <th>CREDIT_LIMIT</th>\n",
       "      <th>CASH_ADVANCE</th>\n",
       "    </tr>\n",
       "  </thead>\n",
       "  <tbody>\n",
       "    <tr>\n",
       "      <th>count</th>\n",
       "      <td>8950</td>\n",
       "      <td>8950.000000</td>\n",
       "      <td>8950.000000</td>\n",
       "      <td>8950.000000</td>\n",
       "      <td>8949.000000</td>\n",
       "      <td>8950.000000</td>\n",
       "    </tr>\n",
       "    <tr>\n",
       "      <th>unique</th>\n",
       "      <td>8950</td>\n",
       "      <td>NaN</td>\n",
       "      <td>NaN</td>\n",
       "      <td>NaN</td>\n",
       "      <td>NaN</td>\n",
       "      <td>NaN</td>\n",
       "    </tr>\n",
       "    <tr>\n",
       "      <th>top</th>\n",
       "      <td>C10001</td>\n",
       "      <td>NaN</td>\n",
       "      <td>NaN</td>\n",
       "      <td>NaN</td>\n",
       "      <td>NaN</td>\n",
       "      <td>NaN</td>\n",
       "    </tr>\n",
       "    <tr>\n",
       "      <th>freq</th>\n",
       "      <td>1</td>\n",
       "      <td>NaN</td>\n",
       "      <td>NaN</td>\n",
       "      <td>NaN</td>\n",
       "      <td>NaN</td>\n",
       "      <td>NaN</td>\n",
       "    </tr>\n",
       "    <tr>\n",
       "      <th>mean</th>\n",
       "      <td>NaN</td>\n",
       "      <td>0.877271</td>\n",
       "      <td>1003.204834</td>\n",
       "      <td>1733.143852</td>\n",
       "      <td>4494.449450</td>\n",
       "      <td>978.871112</td>\n",
       "    </tr>\n",
       "    <tr>\n",
       "      <th>std</th>\n",
       "      <td>NaN</td>\n",
       "      <td>0.236904</td>\n",
       "      <td>2136.634782</td>\n",
       "      <td>2895.063757</td>\n",
       "      <td>3638.815725</td>\n",
       "      <td>2097.163877</td>\n",
       "    </tr>\n",
       "    <tr>\n",
       "      <th>min</th>\n",
       "      <td>NaN</td>\n",
       "      <td>0.000000</td>\n",
       "      <td>0.000000</td>\n",
       "      <td>0.000000</td>\n",
       "      <td>50.000000</td>\n",
       "      <td>0.000000</td>\n",
       "    </tr>\n",
       "    <tr>\n",
       "      <th>25%</th>\n",
       "      <td>NaN</td>\n",
       "      <td>0.888889</td>\n",
       "      <td>39.635000</td>\n",
       "      <td>383.276166</td>\n",
       "      <td>1600.000000</td>\n",
       "      <td>0.000000</td>\n",
       "    </tr>\n",
       "    <tr>\n",
       "      <th>50%</th>\n",
       "      <td>NaN</td>\n",
       "      <td>1.000000</td>\n",
       "      <td>361.280000</td>\n",
       "      <td>856.901546</td>\n",
       "      <td>3000.000000</td>\n",
       "      <td>0.000000</td>\n",
       "    </tr>\n",
       "    <tr>\n",
       "      <th>75%</th>\n",
       "      <td>NaN</td>\n",
       "      <td>1.000000</td>\n",
       "      <td>1110.130000</td>\n",
       "      <td>1901.134317</td>\n",
       "      <td>6500.000000</td>\n",
       "      <td>1113.821139</td>\n",
       "    </tr>\n",
       "    <tr>\n",
       "      <th>max</th>\n",
       "      <td>NaN</td>\n",
       "      <td>1.000000</td>\n",
       "      <td>49039.570000</td>\n",
       "      <td>50721.483360</td>\n",
       "      <td>30000.000000</td>\n",
       "      <td>47137.211760</td>\n",
       "    </tr>\n",
       "  </tbody>\n",
       "</table>\n",
       "</div>"
      ],
      "text/plain": [
       "       CUST_ID  BALANCE_FREQUENCY     PURCHASES      PAYMENTS  CREDIT_LIMIT  \\\n",
       "count     8950        8950.000000   8950.000000   8950.000000   8949.000000   \n",
       "unique    8950                NaN           NaN           NaN           NaN   \n",
       "top     C10001                NaN           NaN           NaN           NaN   \n",
       "freq         1                NaN           NaN           NaN           NaN   \n",
       "mean       NaN           0.877271   1003.204834   1733.143852   4494.449450   \n",
       "std        NaN           0.236904   2136.634782   2895.063757   3638.815725   \n",
       "min        NaN           0.000000      0.000000      0.000000     50.000000   \n",
       "25%        NaN           0.888889     39.635000    383.276166   1600.000000   \n",
       "50%        NaN           1.000000    361.280000    856.901546   3000.000000   \n",
       "75%        NaN           1.000000   1110.130000   1901.134317   6500.000000   \n",
       "max        NaN           1.000000  49039.570000  50721.483360  30000.000000   \n",
       "\n",
       "        CASH_ADVANCE  \n",
       "count    8950.000000  \n",
       "unique           NaN  \n",
       "top              NaN  \n",
       "freq             NaN  \n",
       "mean      978.871112  \n",
       "std      2097.163877  \n",
       "min         0.000000  \n",
       "25%         0.000000  \n",
       "50%         0.000000  \n",
       "75%      1113.821139  \n",
       "max     47137.211760  "
      ]
     },
     "execution_count": 6,
     "metadata": {},
     "output_type": "execute_result"
    }
   ],
   "source": [
    "credit_card_df.describe(include='all')"
   ]
  },
  {
   "cell_type": "code",
   "execution_count": 7,
   "id": "d080d2d7-7775-44e1-80d1-9be0f0b5b656",
   "metadata": {},
   "outputs": [
    {
     "data": {
      "text/plain": [
       "CUST_ID              0\n",
       "BALANCE_FREQUENCY    0\n",
       "PURCHASES            0\n",
       "PAYMENTS             0\n",
       "CREDIT_LIMIT         1\n",
       "CASH_ADVANCE         0\n",
       "dtype: int64"
      ]
     },
     "execution_count": 7,
     "metadata": {},
     "output_type": "execute_result"
    }
   ],
   "source": [
    "# check if there are blank values\n",
    "credit_card_df.isnull().sum()"
   ]
  },
  {
   "cell_type": "code",
   "execution_count": 9,
   "id": "221990f2-ea10-45bc-880f-c10ac48e4639",
   "metadata": {},
   "outputs": [
    {
     "data": {
      "text/plain": [
       "np.int64(0)"
      ]
     },
     "execution_count": 9,
     "metadata": {},
     "output_type": "execute_result"
    }
   ],
   "source": [
    "# check duplicated values\n",
    "credit_card_df.duplicated().sum()"
   ]
  },
  {
   "cell_type": "markdown",
   "id": "0338d7a5-d8d7-4e0c-ba3a-760e2de2dc9d",
   "metadata": {},
   "source": [
    "There are 8950 rows with 6 columns. The columns are mostly numerical with only the CUST_ID is categorical.\n",
    "There is 1 missing value in the credit_limit column\n",
    "There are no duplicates in the dataframe"
   ]
  },
  {
   "cell_type": "markdown",
   "id": "8280bd13-23a9-40fa-8ce2-e205c65f3ee7",
   "metadata": {},
   "source": [
    "### Step 2: Data Preprocessing"
   ]
  },
  {
   "cell_type": "markdown",
   "id": "19019d92-d028-42b6-b689-6c381594aec6",
   "metadata": {},
   "source": [
    "#### 2.1 Filling in missing values on CREDIT_LIMIT"
   ]
  },
  {
   "cell_type": "code",
   "execution_count": 14,
   "id": "5a211f8d-1fe4-4acf-aac3-7d9897633b26",
   "metadata": {},
   "outputs": [
    {
     "data": {
      "text/html": [
       "<div>\n",
       "<style scoped>\n",
       "    .dataframe tbody tr th:only-of-type {\n",
       "        vertical-align: middle;\n",
       "    }\n",
       "\n",
       "    .dataframe tbody tr th {\n",
       "        vertical-align: top;\n",
       "    }\n",
       "\n",
       "    .dataframe thead th {\n",
       "        text-align: right;\n",
       "    }\n",
       "</style>\n",
       "<table border=\"1\" class=\"dataframe\">\n",
       "  <thead>\n",
       "    <tr style=\"text-align: right;\">\n",
       "      <th></th>\n",
       "      <th>cust_id</th>\n",
       "      <th>balance_frequency</th>\n",
       "      <th>purchases</th>\n",
       "      <th>payments</th>\n",
       "      <th>credit_limit</th>\n",
       "      <th>cash_advance</th>\n",
       "    </tr>\n",
       "  </thead>\n",
       "  <tbody>\n",
       "    <tr>\n",
       "      <th>5203</th>\n",
       "      <td>C15349</td>\n",
       "      <td>0.166667</td>\n",
       "      <td>0.0</td>\n",
       "      <td>9.040017</td>\n",
       "      <td>NaN</td>\n",
       "      <td>186.853063</td>\n",
       "    </tr>\n",
       "  </tbody>\n",
       "</table>\n",
       "</div>"
      ],
      "text/plain": [
       "     cust_id  balance_frequency  purchases  payments  credit_limit  \\\n",
       "5203  C15349           0.166667        0.0  9.040017           NaN   \n",
       "\n",
       "      cash_advance  \n",
       "5203    186.853063  "
      ]
     },
     "execution_count": 14,
     "metadata": {},
     "output_type": "execute_result"
    }
   ],
   "source": [
    "# Filling in missing values on CREDIT_LIMIT\n",
    "df = credit_card_df.copy()\n",
    "df.columns = df.columns.str.lower()\n",
    "missing = df[df.credit_limit.isnull()]\n",
    "missing"
   ]
  },
  {
   "cell_type": "code",
   "execution_count": 18,
   "id": "cf1fece3-7ab4-47e9-9b27-74760daa9eda",
   "metadata": {},
   "outputs": [
    {
     "data": {
      "text/plain": [
       "cust_id  balance_frequency  purchases  payments  credit_limit  cash_advance\n",
       "C10004   0.636364           1499.00    0.0       7500.0        205.788017      1\n",
       "C16963   0.545455           21.99      0.0       4000.0        0.000000        1\n",
       "C15924   0.000000           1021.56    0.0       3000.0        0.000000        1\n",
       "C15944   0.090909           0.00       0.0       1800.0        93.468447       1\n",
       "C15949   0.000000           102.72     0.0       1500.0        0.000000        1\n",
       "                                                                              ..\n",
       "C11379   0.000000           300.00     0.0       2500.0        0.000000        1\n",
       "C11624   1.000000           0.00       0.0       3000.0        1820.800715     1\n",
       "C11675   0.090909           0.00       0.0       12000.0       1125.868686     1\n",
       "C11705   0.090909           0.00       0.0       1000.0        575.193978      1\n",
       "C19185   0.833333           1012.73    0.0       4000.0        0.000000        1\n",
       "Name: count, Length: 242, dtype: int64"
      ]
     },
     "execution_count": 18,
     "metadata": {},
     "output_type": "execute_result"
    }
   ],
   "source": [
    "df[df.payments < 1].value_counts()"
   ]
  },
  {
   "cell_type": "code",
   "execution_count": 25,
   "id": "c4208f10-d25e-4f03-8860-8b2f856ce6c6",
   "metadata": {},
   "outputs": [
    {
     "data": {
      "text/plain": [
       "np.float64(3908.471074380165)"
      ]
     },
     "execution_count": 25,
     "metadata": {},
     "output_type": "execute_result"
    }
   ],
   "source": [
    "df[df.payments < 1].credit_limit.mean()"
   ]
  },
  {
   "cell_type": "markdown",
   "id": "d3736395-901e-470f-94d3-2319f8f0e72d",
   "metadata": {},
   "source": [
    "Given there are many factors that affect credit limits, we'll assign the missing values a credit limit based off the average of the limits for people with payments less than 1. The reason we're utilising payments is because we're able to get lesser groupings as opposed to the other columns which are quite random"
   ]
  },
  {
   "cell_type": "code",
   "execution_count": 27,
   "id": "de4f2fcf-09a4-4689-bf02-e131c4b0d5e4",
   "metadata": {},
   "outputs": [],
   "source": [
    "df.loc[5203, 'credit_limit'] = 3908.47"
   ]
  },
  {
   "cell_type": "code",
   "execution_count": 29,
   "id": "6e25c7d8-3f59-4c78-852e-6a530b286042",
   "metadata": {},
   "outputs": [
    {
     "data": {
      "text/plain": [
       "np.int64(0)"
      ]
     },
     "execution_count": 29,
     "metadata": {},
     "output_type": "execute_result"
    }
   ],
   "source": [
    "df.credit_limit.isnull().sum()"
   ]
  },
  {
   "cell_type": "markdown",
   "id": "9f5e66f6-a3e1-4f13-b7a4-50cc5ad195b0",
   "metadata": {},
   "source": [
    "#### 2.2 Data analysis\n",
    "\n",
    "1. Does balance frequency influence the credit limit amount?\n",
    "2. Does making high purchase amounts and payments frequency affect the cash advance and credit limit?"
   ]
  },
  {
   "cell_type": "markdown",
   "id": "91b694eb-7870-41b3-a24b-c5fb3bffa72b",
   "metadata": {},
   "source": [
    "#### 2.3 Checking and handling outliers"
   ]
  },
  {
   "cell_type": "markdown",
   "id": "3e750ac1-fa11-4895-b986-b0f5289a361a",
   "metadata": {},
   "source": [
    "#### 2.4 Encoding the categorical columns"
   ]
  },
  {
   "cell_type": "markdown",
   "id": "8ec69e20-77ad-497c-9d30-6df0d0382f94",
   "metadata": {},
   "source": [
    "#### 2.5 Checking the correlation in our data"
   ]
  },
  {
   "cell_type": "markdown",
   "id": "e57c9707-e2af-4f2a-8b26-80b6d8ccba6e",
   "metadata": {},
   "source": [
    "#### 2.6 If need be, we'll standardize/normalize our data"
   ]
  },
  {
   "cell_type": "markdown",
   "id": "02f47d92-ee37-4bb5-a13a-55b546754997",
   "metadata": {},
   "source": [
    "### Step 3: Training our models"
   ]
  },
  {
   "cell_type": "code",
   "execution_count": null,
   "id": "248524b1-8f07-4012-ab5b-db98df902c61",
   "metadata": {},
   "outputs": [],
   "source": []
  }
 ],
 "metadata": {
  "kernelspec": {
   "display_name": "Python 3 (ipykernel)",
   "language": "python",
   "name": "python3"
  },
  "language_info": {
   "codemirror_mode": {
    "name": "ipython",
    "version": 3
   },
   "file_extension": ".py",
   "mimetype": "text/x-python",
   "name": "python",
   "nbconvert_exporter": "python",
   "pygments_lexer": "ipython3",
   "version": "3.11.5"
  }
 },
 "nbformat": 4,
 "nbformat_minor": 5
}
